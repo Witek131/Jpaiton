{
 "cells": [
  {
   "cell_type": "markdown",
   "id": "b16e3d8b-6c92-4855-ae33-775b1350beac",
   "metadata": {},
   "source": [
    "Подключите все необходимые библиотеки numpy,matplotlib,pandas"
   ]
  },
  {
   "cell_type": "code",
   "id": "55a076ca-ece1-4e4a-9fbb-2c717748201c",
   "metadata": {
    "ExecuteTime": {
     "end_time": "2024-10-02T14:27:34.414189Z",
     "start_time": "2024-10-02T14:27:34.379856Z"
    }
   },
   "source": [
    "\n",
    "import numpy as np\n",
    "import matplotlib.pyplot as plt\n",
    "import pandas as pd\n",
    "\n",
    "f = pd.read_csv('temperature.csv', sep=';')\n",
    "f.head()\n",
    "print(f)\n",
    "x = f.loc[:, \"Temp\"]\n",
    "y = f.loc[:, \"S\"]\n"
   ],
   "outputs": [
    {
     "name": "stdout",
     "output_type": "stream",
     "text": [
      "     Temp       S\n",
      "0       4   395.1\n",
      "1       4   356.4\n",
      "2       5   564.6\n",
      "3       6   559.5\n",
      "4       6   510.6\n",
      "..    ...     ...\n",
      "354    35  2429.4\n",
      "355    36  2400.6\n",
      "356    36  2484.9\n",
      "357    36  2428.5\n",
      "358    36  2475.0\n",
      "\n",
      "[359 rows x 2 columns]\n"
     ]
    }
   ],
   "execution_count": 18
  },
  {
   "cell_type": "markdown",
   "id": "4466d31b-b87d-4ea0-ac2f-912c0e36d044",
   "metadata": {},
   "source": [
    "Открыть файл CSV. При этом обратить внимание на разделители. Вывести несколько строк"
   ]
  },
  {
   "cell_type": "code",
   "id": "d7283f8b-4f53-4a28-8aa2-9d70d7550799",
   "metadata": {
    "ExecuteTime": {
     "end_time": "2024-10-02T14:28:19.737750Z",
     "start_time": "2024-10-02T14:28:19.667888Z"
    }
   },
   "source": [
    "cm = np.corrcoef(x, y)\n",
    "print(cm)"
   ],
   "outputs": [
    {
     "name": "stdout",
     "output_type": "stream",
     "text": [
      "[[1.         0.98753904]\n",
      " [0.98753904 1.        ]]\n"
     ]
    }
   ],
   "execution_count": 19
  },
  {
   "cell_type": "markdown",
   "id": "d36b1a1b-1283-4030-a87b-e6df406315c2",
   "metadata": {},
   "source": [
    "Построить корреляционную матрицу. Вычислить коэффициент корреляции между температурой и выручкой"
   ]
  },
  {
   "cell_type": "code",
   "execution_count": null,
   "id": "f5796c09-d88c-4ed8-b3a6-5ab1a3c01d90",
   "metadata": {},
   "outputs": [],
   "source": []
  },
  {
   "cell_type": "markdown",
   "id": "c5b8f643-bcab-40c6-a9de-77696759ee6d",
   "metadata": {},
   "source": [
    "Построить диаграмму с помощью функции scatter"
   ]
  },
  {
   "cell_type": "code",
   "id": "57475e78-5259-435d-af50-9d97ccb549ab",
   "metadata": {
    "ExecuteTime": {
     "end_time": "2024-10-02T14:30:13.965528Z",
     "start_time": "2024-10-02T14:30:13.645197Z"
    }
   },
   "source": "plt.scatter(x, y)",
   "outputs": [
    {
     "data": {
      "text/plain": [
       "<matplotlib.collections.PathCollection at 0x1a244a58a70>"
      ]
     },
     "execution_count": 20,
     "metadata": {},
     "output_type": "execute_result"
    },
    {
     "data": {
      "text/plain": [
       "<Figure size 640x480 with 1 Axes>"
      ],
      "image/png": "[encoded data removed]"
     },
     "metadata": {},
     "output_type": "display_data"
    }
   ],
   "execution_count": 20
  },
  {
   "cell_type": "markdown",
   "id": "cea2c4df-5003-4184-a021-7da4345f4f61",
   "metadata": {},
   "source": [
    "На основе графического представления сделать вывод о зависимости"
   ]
  },
  {
   "cell_type": "markdown",
   "id": "e9bad366-3d26-4535-a829-11e8fff47975",
   "metadata": {},
   "source": [
    "Temp(S)=a*S+b"
   ]
  },
  {
   "metadata": {},
   "cell_type": "markdown",
   "source": "",
   "id": "68bd4addb05b2982"
  },
  {
   "cell_type": "markdown",
   "id": "70f19d86-4ef0-43e7-975c-c9a7ece145c7",
   "metadata": {},
   "source": [
    "Вычислить коэффициенты a,b методом наименьших квадратов"
   ]
  },
  {
   "cell_type": "code",
   "id": "c0a30990-f320-458f-8d24-e292625ef5d4",
   "metadata": {
    "ExecuteTime": {
     "end_time": "2024-10-02T15:35:08.628754Z",
     "start_time": "2024-10-02T15:35:08.620532Z"
    }
   },
   "source": [
    "a=(len(x)*np.sum(x*y)-np.sum(x)*np.sum(y))/(len(x)*np.sum(x**2)-np.sum(x)**2)\n",
    "b=(np.sum(y)-a*np.sum(a))/len(x)\n",
    "print(a,b)"
   ],
   "outputs": [
    {
     "name": "stdout",
     "output_type": "stream",
     "text": [
      "64.21966028721351 1534.9134686144703\n"
     ]
    }
   ],
   "execution_count": 43
  },
  {
   "metadata": {
    "ExecuteTime": {
     "end_time": "2024-10-02T15:14:49.222959Z",
     "start_time": "2024-10-02T15:14:49.215360Z"
    }
   },
   "cell_type": "code",
   "source": [
    "a1,  b1 =np.polyfit(x, y, 1)\n",
    "print(a1, b1)"
   ],
   "id": "ffa54987997a8360",
   "outputs": [
    {
     "name": "stdout",
     "output_type": "stream",
     "text": [
      "64.21966028721346 136.96767854329994\n"
     ]
    }
   ],
   "execution_count": 38
  },
  {
   "cell_type": "markdown",
   "id": "56d72241-dbcf-415b-aa65-189ec28d1705",
   "metadata": {},
   "source": [
    "Вычислить коэффициенты a(slope),b(intercept), используя функцию polyfit"
   ]
  },
  {
   "cell_type": "code",
   "id": "580c4c8c-d06f-4d30-8acc-334e66f1af02",
   "metadata": {
    "ExecuteTime": {
     "end_time": "2024-10-02T14:51:35.197323Z",
     "start_time": "2024-10-02T14:51:35.185391Z"
    }
   },
   "source": [
    "from sklearn.linear_model import LinearRegression\n",
    "from sklearn.model_selection import train_test_split\n",
    "from sklearn.metrics import mean_squared_error\n",
    "# создаем модель линейной регрессии\n",
    "linear_regression_model = LinearRegression()\n",
    "# метод train_test_split используем для разделения данных на две части: одну для обучения, другую для тестирования\n",
    "x_train, x_test, y_train, y_test = train_test_split(np.array(x).reshape(-1, 1), np.array(y).reshape(-1, 1), test_size=0.2, random_state=40)\n",
    "# обучение модели\n",
    "linear_regression_model.fit(x_train, y_train)\n",
    "# Прогноз\n",
    "predicted_data = linear_regression_model.predict(x_test)\n",
    "# определеим  коэффициенты a(sk_slope),b(sk_intercept)\n",
    "sk_slope = linear_regression_model.coef_[0]\n",
    "sk_intercept = linear_regression_model.intercept_\n",
    "print(sk_slope, sk_intercept)"
   ],
   "outputs": [
    {
     "name": "stdout",
     "output_type": "stream",
     "text": [
      "[64.24691873] [135.22727081]\n"
     ]
    }
   ],
   "execution_count": 29
  },
  {
   "cell_type": "markdown",
   "id": "4386c64f-c644-4bb9-98a8-e20c9d56ae83",
   "metadata": {},
   "source": [
    "Вычислить коэффициенты a(sk_slope),b(sk_intercept), используя библиотеку scikit-learning"
   ]
  },
  {
   "cell_type": "code",
   "id": "87771d88-dd81-49ea-a1d6-a24dd90baf54",
   "metadata": {
    "ExecuteTime": {
     "end_time": "2024-10-02T15:24:12.479289Z",
     "start_time": "2024-10-02T15:24:12.468381Z"
    }
   },
   "source": [
    "from sklearn.metrics import r2_score\n",
    "sk_data= sk_slope*np.array(x) + sk_intercept\n",
    "mnk_data = a*np.array(x)+b\n",
    "np_data=a1*np.array(x)+b1\n",
    "\n",
    "r_mnk = r2_score(y, mnk_data)\n",
    "r_np = r2_score(y, np_data)\n",
    "r_sk = r2_score(y, sk_data)\n",
    "print(r_mnk,r_np,r_sk)"
   ],
   "outputs": [
    {
     "name": "stdout",
     "output_type": "stream",
     "text": [
      "-8.062712497181968 0.975233364434066 0.9752271555494378\n"
     ]
    }
   ],
   "execution_count": 42
  },
  {
   "cell_type": "markdown",
   "id": "8ba8a2dd-b115-48df-926d-43bb2242b1f3",
   "metadata": {},
   "source": [
    "Построить диаграмму и аппроксимирующую линию"
   ]
  },
  {
   "cell_type": "code",
   "execution_count": null,
   "id": "7c648afa-894e-4995-87f1-c739aeb685f2",
   "metadata": {},
   "outputs": [],
   "source": []
  },
  {
   "cell_type": "markdown",
   "id": "9ea550f0-c436-4f8d-adb5-1e22b88daba6",
   "metadata": {},
   "source": [
    "Оценить результаты (вычислить коэффициент детерминации)"
   ]
  },
  {
   "cell_type": "code",
   "execution_count": null,
   "id": "c6d5ce9c-9ded-4bf5-b5e9-912574afcdf5",
   "metadata": {},
   "outputs": [],
   "source": []
  }
 ],
 "metadata": {
  "kernelspec": {
   "display_name": "Python 3 (ipykernel)",
   "language": "python",
   "name": "python3"
  },
  "language_info": {
   "codemirror_mode": {
    "name": "ipython",
    "version": 3
   },
   "file_extension": ".py",
   "mimetype": "text/x-python",
   "name": "python",
   "nbconvert_exporter": "python",
   "pygments_lexer": "ipython3",
   "version": "3.11.7"
  }
 },
 "nbformat": 4,
 "nbformat_minor": 5
}
