{
 "cells": [
  {
   "cell_type": "code",
   "id": "976a1da9",
   "metadata": {
    "ExecuteTime": {
     "end_time": "2024-10-15T15:15:22.146693Z",
     "start_time": "2024-10-15T15:15:20.508191Z"
    }
   },
   "source": [
    "from distutils.command.check import check\n",
    "# Перед началом работы с библиотеками pandas и seaborn необходимо установить их в Python.\n",
    "# Сделать это можно, исполнив данную ячейку\n",
    "!pip3 install pandas\n",
    "!pip3 install seaborn\n"
   ],
   "outputs": [
    {
     "name": "stdout",
     "output_type": "stream",
     "text": [
      "Requirement already satisfied: pandas in c:\\users\\wik13\\pycharmprojects\\jpaiton\\.venv\\lib\\site-packages (2.2.3)\n",
      "Requirement already satisfied: numpy>=1.22.4 in c:\\users\\wik13\\pycharmprojects\\jpaiton\\.venv\\lib\\site-packages (from pandas) (2.1.1)\n",
      "Requirement already satisfied: python-dateutil>=2.8.2 in c:\\users\\wik13\\pycharmprojects\\jpaiton\\.venv\\lib\\site-packages (from pandas) (2.9.0.post0)\n",
      "Requirement already satisfied: pytz>=2020.1 in c:\\users\\wik13\\pycharmprojects\\jpaiton\\.venv\\lib\\site-packages (from pandas) (2024.2)\n",
      "Requirement already satisfied: tzdata>=2022.7 in c:\\users\\wik13\\pycharmprojects\\jpaiton\\.venv\\lib\\site-packages (from pandas) (2024.2)\n",
      "Requirement already satisfied: six>=1.5 in c:\\users\\wik13\\pycharmprojects\\jpaiton\\.venv\\lib\\site-packages (from python-dateutil>=2.8.2->pandas) (1.16.0)\n",
      "Requirement already satisfied: seaborn in c:\\users\\wik13\\pycharmprojects\\jpaiton\\.venv\\lib\\site-packages (0.13.2)\n",
      "Requirement already satisfied: numpy!=1.24.0,>=1.20 in c:\\users\\wik13\\pycharmprojects\\jpaiton\\.venv\\lib\\site-packages (from seaborn) (2.1.1)\n",
      "Requirement already satisfied: pandas>=1.2 in c:\\users\\wik13\\pycharmprojects\\jpaiton\\.venv\\lib\\site-packages (from seaborn) (2.2.3)\n",
      "Requirement already satisfied: matplotlib!=3.6.1,>=3.4 in c:\\users\\wik13\\pycharmprojects\\jpaiton\\.venv\\lib\\site-packages (from seaborn) (3.9.2)\n",
      "Requirement already satisfied: contourpy>=1.0.1 in c:\\users\\wik13\\pycharmprojects\\jpaiton\\.venv\\lib\\site-packages (from matplotlib!=3.6.1,>=3.4->seaborn) (1.3.0)\n",
      "Requirement already satisfied: cycler>=0.10 in c:\\users\\wik13\\pycharmprojects\\jpaiton\\.venv\\lib\\site-packages (from matplotlib!=3.6.1,>=3.4->seaborn) (0.12.1)\n",
      "Requirement already satisfied: fonttools>=4.22.0 in c:\\users\\wik13\\pycharmprojects\\jpaiton\\.venv\\lib\\site-packages (from matplotlib!=3.6.1,>=3.4->seaborn) (4.54.1)\n",
      "Requirement already satisfied: kiwisolver>=1.3.1 in c:\\users\\wik13\\pycharmprojects\\jpaiton\\.venv\\lib\\site-packages (from matplotlib!=3.6.1,>=3.4->seaborn) (1.4.7)\n",
      "Requirement already satisfied: packaging>=20.0 in c:\\users\\wik13\\pycharmprojects\\jpaiton\\.venv\\lib\\site-packages (from matplotlib!=3.6.1,>=3.4->seaborn) (24.1)\n",
      "Requirement already satisfied: pillow>=8 in c:\\users\\wik13\\pycharmprojects\\jpaiton\\.venv\\lib\\site-packages (from matplotlib!=3.6.1,>=3.4->seaborn) (10.4.0)\n",
      "Requirement already satisfied: pyparsing>=2.3.1 in c:\\users\\wik13\\pycharmprojects\\jpaiton\\.venv\\lib\\site-packages (from matplotlib!=3.6.1,>=3.4->seaborn) (3.1.4)\n",
      "Requirement already satisfied: python-dateutil>=2.7 in c:\\users\\wik13\\pycharmprojects\\jpaiton\\.venv\\lib\\site-packages (from matplotlib!=3.6.1,>=3.4->seaborn) (2.9.0.post0)\n",
      "Requirement already satisfied: pytz>=2020.1 in c:\\users\\wik13\\pycharmprojects\\jpaiton\\.venv\\lib\\site-packages (from pandas>=1.2->seaborn) (2024.2)\n",
      "Requirement already satisfied: tzdata>=2022.7 in c:\\users\\wik13\\pycharmprojects\\jpaiton\\.venv\\lib\\site-packages (from pandas>=1.2->seaborn) (2024.2)\n",
      "Requirement already satisfied: six>=1.5 in c:\\users\\wik13\\pycharmprojects\\jpaiton\\.venv\\lib\\site-packages (from python-dateutil>=2.7->matplotlib!=3.6.1,>=3.4->seaborn) (1.16.0)\n"
     ]
    }
   ],
   "execution_count": 2
  },
  {
   "cell_type": "code",
   "id": "f94bbda7",
   "metadata": {
    "ExecuteTime": {
     "end_time": "2024-10-15T15:15:22.565981Z",
     "start_time": "2024-10-15T15:15:22.555009Z"
    }
   },
   "source": [
    "import math\n",
    "import pandas as pd\n",
    "import seaborn as sns"
   ],
   "outputs": [],
   "execution_count": 3
  },
  {
   "cell_type": "code",
   "id": "60ea2afe",
   "metadata": {
    "ExecuteTime": {
     "end_time": "2024-10-15T15:15:22.597676Z",
     "start_time": "2024-10-15T15:15:22.582960Z"
    }
   },
   "source": [
    "# Настройка, которая позволяет сделать графики, которые рисует seaborn, более крупными\n",
    "sns.set(rc={'figure.figsize': (11.7, 8.27)})"
   ],
   "outputs": [],
   "execution_count": 4
  },
  {
   "cell_type": "code",
   "id": "020da7aa",
   "metadata": {
    "ExecuteTime": {
     "end_time": "2024-10-15T15:15:22.643984Z",
     "start_time": "2024-10-15T15:15:22.631020Z"
    }
   },
   "source": [
    "def round_to_2(x):\n",
    "    \"\"\"\n",
    "    Принимает число и возвращает результат его округления\n",
    "    до 2 знаков после запятой.\n",
    "    \n",
    "    Аргументы:\n",
    "        x: Число.\n",
    "        \n",
    "    Возвращаемое значение:\n",
    "        Результат округления числа до 2 знаков после запятой.\n",
    "    \"\"\"\n",
    "\n",
    "    return round(x, 2)"
   ],
   "outputs": [],
   "execution_count": 5
  },
  {
   "cell_type": "markdown",
   "id": "765b1a5f",
   "metadata": {},
   "source": [
    "## Среднее значение в колонке csv-файла"
   ]
  },
  {
   "cell_type": "code",
   "id": "cff02b4a",
   "metadata": {
    "ExecuteTime": {
     "end_time": "2024-10-15T15:15:22.673904Z",
     "start_time": "2024-10-15T15:15:22.659945Z"
    }
   },
   "source": [
    "def split_line(line, sep):\n",
    "    \"\"\"\n",
    "    Возвращает список значений, которые содержатся в строке\n",
    "    и разделены конкретным разделителем.\n",
    "    Если какое-то из значений обособлено кавычками (\"<значение>\"), то разделительный\n",
    "    символ внутри него не считается разделителем.\n",
    "    \n",
    "    Например, если передать в функцию строку 'aa,bb,\"cc, oo\",dd' и разделитель ',',\n",
    "    то в результате работы функции получится список ['aa', 'bb', 'cc, oo', 'dd'].\n",
    "    \n",
    "    Аргументы:\n",
    "        line: Строка, которую нужно разбить на подстроки.\n",
    "        sep: Разделитель, который используется в строке для отделения различных значений.\n",
    "        \n",
    "    Возвращаемое значение:\n",
    "        Список подстрок строки, получаемых с помощью разделения её\n",
    "        на подстроки по заданному разделителю.\n",
    "    \"\"\"\n",
    "\n",
    "    res = []\n",
    "\n",
    "    prev_ind = -1\n",
    "    in_quotes = False\n",
    "\n",
    "    for i in range(len(line)):\n",
    "        ch = line[i]\n",
    "\n",
    "        if ch == '\"':\n",
    "            in_quotes = not in_quotes\n",
    "\n",
    "        if not in_quotes and ch == sep:\n",
    "            res.append(line[prev_ind + 1:i].strip('\"'))\n",
    "            prev_ind = i\n",
    "\n",
    "    if prev_ind < len(line) - 1:\n",
    "        res.append(line[prev_ind + 1:len(line)].strip('\"'))\n",
    "    elif prev_ind == len(line) - 1:\n",
    "        res.append('')\n",
    "\n",
    "    return res"
   ],
   "outputs": [],
   "execution_count": 6
  },
  {
   "cell_type": "code",
   "id": "c94777b8",
   "metadata": {
    "ExecuteTime": {
     "end_time": "2024-10-15T15:15:22.705755Z",
     "start_time": "2024-10-15T15:15:22.690831Z"
    }
   },
   "source": [
    "def read_csv_and_calc_mean_solution(lines, sep, column_name):\n",
    "    print(lines)\n",
    "    \"\"\"\n",
    "    Принимает список строк из csv-файла и возвращает среднее значение в заданной колонке.\n",
    "    В первой строке csv-файла всегда представлены названия его колонок.\n",
    "    \n",
    "    Аргументы:\n",
    "        lines: Список строк, прочитанных из csv-файла.\n",
    "        sep: Разделитель, который используется в строках для отделения различных значений.\n",
    "        column_name: Название колонки с целочисленными значениями, по которой нужно посчитать среднее.\n",
    "        \n",
    "    Возвращаемое значение:\n",
    "        Среднее значение в заданной колонке, округлённое до 2 знаков\n",
    "        после запятой с помощью функции round_to_2.\n",
    "    \"\"\"\n",
    "\n",
    "    pass"
   ],
   "outputs": [],
   "execution_count": 7
  },
  {
   "cell_type": "code",
   "id": "423d5b67",
   "metadata": {
    "ExecuteTime": {
     "end_time": "2024-10-15T15:15:22.735979Z",
     "start_time": "2024-10-15T15:15:22.722852Z"
    }
   },
   "source": [
    "def read_csv_and_calc_mean_tests():\n",
    "    example_1_lines = [\n",
    "        'Жанр,\"Продолжительность, часы\",\"Продолжительность, минуты\",Страна производства,Год производства',\n",
    "        'Боевик,0,36,Италия,1996',\n",
    "        'Комедия,1,23,Россия,1999',\n",
    "        'Триллер,2,21,США,2006',\n",
    "    ]\n",
    "    example_1_sep = ','\n",
    "    example_1_column = 'Год производства'\n",
    "    example_1_res = 2000.33\n",
    "\n",
    "    assert read_csv_and_calc_mean_solution(example_1_lines, example_1_sep, example_1_column) == example_1_res\n",
    "\n",
    "    example_2_lines = [\n",
    "        'Жанр,\"Продолжительность, часы\",\"Продолжительность, минуты\",Страна производства,Год производства',\n",
    "        'Боевик,0,36,Италия,1996',\n",
    "        'Комедия,1,23,Россия,1999',\n",
    "        'Триллер,2,21,США,2006',\n",
    "        'Комедия,1,48,США-Россия,2012',\n",
    "        'Драма,2,3,Франция,2016',\n",
    "        'Документальный,2,47,Германия,2001'\n",
    "    ]\n",
    "    example_2_sep = ','\n",
    "    example_2_column = 'Продолжительность, минуты'\n",
    "    example_2_res = 29.67\n",
    "\n",
    "    assert read_csv_and_calc_mean_solution(example_2_lines, example_2_sep, example_2_column) == example_2_res\n",
    "\n",
    "    print('Все тесты прошли успешно!')"
   ],
   "outputs": [],
   "execution_count": 8
  },
  {
   "cell_type": "code",
   "id": "c90d6c12",
   "metadata": {
    "ExecuteTime": {
     "end_time": "2024-10-15T15:15:22.766767Z",
     "start_time": "2024-10-15T15:15:22.752805Z"
    }
   },
   "source": "",
   "outputs": [],
   "execution_count": null
  },
  {
   "cell_type": "markdown",
   "id": "9521936e",
   "metadata": {},
   "source": [
    "## Фильтрация таблиц"
   ]
  },
  {
   "cell_type": "markdown",
   "id": "880e3eaf",
   "metadata": {},
   "source": [
    "## Комбинирование колонок и расчёт статистик"
   ]
  },
  {
   "cell_type": "code",
   "id": "e7819a5d",
   "metadata": {
    "ExecuteTime": {
     "end_time": "2024-10-15T15:15:22.797685Z",
     "start_time": "2024-10-15T15:15:22.784721Z"
    }
   },
   "source": [
    "# # В переменную movies_budget загружена таблица из файла movies_budget.csv\n",
    "# movies_budget = pd.read_csv('movies_budget.csv', sep=';')\n",
    "# \n",
    "# print(movies_budget.groupby('Жанр фильма', as_index=False) \\\n",
    "#       .aggregate({'Число зрителей': 'sum'}) \\\n",
    "#       .sort_values('Число зрителей', ascending=False))\n",
    "# \n",
    "# c = 0\n",
    "# d = 0\n",
    "# mas = -1\n",
    "# \n",
    "# for i in movies_budget['Число зрителей'] * movies_budget['Стоимость билета']:\n",
    "#     d += 1\n",
    "#     c += i\n",
    "#     # print(movies_budget['Бюджет'][d-1])\n",
    "#     s = (1 / 2) * i - movies_budget['Бюджет'][d-1] * 1.5\n",
    "#     #print(s)\n",
    "#     if mas < s:\n",
    "#         mas = s\n",
    "# print(round_to_2(mas))\n",
    "# \n",
    "# print(round_to_2(c / d), (movies_budget['Число зрителей'] * movies_budget['Стоимость билета']).mean())"
   ],
   "outputs": [],
   "execution_count": 9
  },
  {
   "cell_type": "markdown",
   "id": "624d2aad",
   "metadata": {},
   "source": [
    "## Агрегированные статистики"
   ]
  },
  {
   "cell_type": "code",
   "id": "acc10e90",
   "metadata": {
    "ExecuteTime": {
     "end_time": "2024-10-15T15:15:22.829599Z",
     "start_time": "2024-10-15T15:15:22.814641Z"
    }
   },
   "source": [
    "def transform_countries_info(movies_data):\n",
    "    \"\"\"\n",
    "    Принимает таблицу с колонкой «Страна производства» и добавляет к таблице 5 новых колонок:\n",
    "    по одной на каждую отдельную страну. Значение в каждой из колонок соответствует тому,\n",
    "    принимала ли конкретная страна участие в производстве фильма.\n",
    "    \n",
    "    Аргументы:\n",
    "        movies_data: Исходная таблица с клонкой «Страна производства».\n",
    "        \n",
    "    Возвращаемое значение:\n",
    "        Нет. Функция модифицирует переданную таблицу, но ничего не возвращает.\n",
    "    \"\"\"\n",
    "\n",
    "    countries = ['Россия', 'Германия', 'США', 'Италия', 'Франция']\n",
    "    new_columns = [[] for i in range(len(countries))]\n",
    "\n",
    "    for _, row in movies_data.iterrows():\n",
    "        country_of_origin_united = row['Страна производства']\n",
    "        countries_of_origin = country_of_origin_united.split('-')\n",
    "\n",
    "        for i in range(len(countries)):\n",
    "            country = countries[i]\n",
    "\n",
    "            if country in countries_of_origin:\n",
    "                new_columns[i].append(1)\n",
    "            else:\n",
    "                new_columns[i].append(0)\n",
    "\n",
    "    for i in range(len(countries)):\n",
    "        movies_data[countries[i]] = new_columns[i]\n",
    "    return movies_data"
   ],
   "outputs": [],
   "execution_count": 10
  },
  {
   "metadata": {
    "ExecuteTime": {
     "end_time": "2024-10-15T15:15:22.926832Z",
     "start_time": "2024-10-15T15:15:22.847132Z"
    }
   },
   "cell_type": "code",
   "source": [
    "# В переменную movies загружена таблица из файла movies_data.csv\n",
    "movies = pd.read_csv('movies_budget.csv', sep=';')\n",
    "move = transform_countries_info(movies)\n",
    "s = movies.groupby('Жанр фильма', as_index=False).aggregate({'Россия': 'sum'}).sort_values('Россия', ascending=False)\n",
    "print(s)\n",
    "for i in s['Россия']:\n",
    "    print(i)\n",
    "for i in s['Жанр фильма']:\n",
    "    print(i)\n",
    "\n",
    "    \n",
    "# Удаление фильмов, у которых не указан год производства\n",
    "# for i in (move.groupby('Жанр фильма', as_index=False).aggregate({'Россия': 'count'})):\n",
    "#     print(i)\n",
    "# movies = movies[((~movies['Год производства'].isna()) & (movies['Жанр фильма'] == 'Триллер') & (\n",
    "#         movies['Год производства'] < 2000)) | (movies[\"Страна производства\"] == 'Россия')]\n",
    "# movies = movies[movies[~movies['Год производства'].isna()] & movies['Жанр фильма'] == 'Триллер' & movies['Год производства'] < 2000 | movies['Страна производства'] == 'Россия']\n",
    "\n"
   ],
   "id": "20cd33195b00f860",
   "outputs": [
    {
     "name": "stdout",
     "output_type": "stream",
     "text": [
      "      Жанр фильма  Россия\n",
      "2           Драма     123\n",
      "4         Триллер     111\n",
      "0          Боевик      77\n",
      "1  Документальный      40\n",
      "3         Комедия      33\n",
      "123\n",
      "111\n",
      "77\n",
      "40\n",
      "33\n",
      "Драма\n",
      "Триллер\n",
      "Боевик\n",
      "Документальный\n",
      "Комедия\n"
     ]
    }
   ],
   "execution_count": 11
  },
  {
   "cell_type": "markdown",
   "id": "877e74d4",
   "metadata": {},
   "source": [
    "## Визуальный анализ данных"
   ]
  },
  {
   "cell_type": "code",
   "id": "c67793d0",
   "metadata": {
    "ExecuteTime": {
     "end_time": "2024-10-31T18:42:10.315120Z",
     "start_time": "2024-10-31T18:42:09.944696Z"
    }
   },
   "source": [
    "# В переменную many_factors загружена таблица из файла many_factors_data.csv\n",
    "many_factors = pd.read_csv('many_factors_data.csv')"
   ],
   "outputs": [
    {
     "ename": "NameError",
     "evalue": "name 'pd' is not defined",
     "output_type": "error",
     "traceback": [
      "\u001B[1;31m---------------------------------------------------------------------------\u001B[0m",
      "\u001B[1;31mNameError\u001B[0m                                 Traceback (most recent call last)",
      "Cell \u001B[1;32mIn[1], line 2\u001B[0m\n\u001B[0;32m      1\u001B[0m \u001B[38;5;66;03m# В переменную many_factors загружена таблица из файла many_factors_data.csv\u001B[39;00m\n\u001B[1;32m----> 2\u001B[0m many_factors \u001B[38;5;241m=\u001B[39m \u001B[43mpd\u001B[49m\u001B[38;5;241m.\u001B[39mread_csv(\u001B[38;5;124m'\u001B[39m\u001B[38;5;124mmany_factors_data.csv\u001B[39m\u001B[38;5;124m'\u001B[39m)\n",
      "\u001B[1;31mNameError\u001B[0m: name 'pd' is not defined"
     ]
    }
   ],
   "execution_count": 1
  },
  {
   "cell_type": "code",
   "execution_count": null,
   "id": "512c5327",
   "metadata": {},
   "outputs": [],
   "source": [
    "# В переменную uniform_and_not загружена таблица из файла uniform_and_not_data\n",
    "uniform_and_not = pd.read_csv('uniform_and_not_data.csv')"
   ]
  }
 ],
 "metadata": {
  "kernelspec": {
   "display_name": "Python 3 (ipykernel)",
   "language": "python",
   "name": "python3"
  },
  "language_info": {
   "codemirror_mode": {
    "name": "ipython",
    "version": 3
   },
   "file_extension": ".py",
   "mimetype": "text/x-python",
   "name": "python",
   "nbconvert_exporter": "python",
   "pygments_lexer": "ipython3",
   "version": "3.9.5"
  }
 },
 "nbformat": 4,
 "nbformat_minor": 5
}
