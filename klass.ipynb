{
 "cells": [
  {
   "cell_type": "code",
   "id": "initial_id",
   "metadata": {
    "collapsed": true,
    "ExecuteTime": {
     "end_time": "2024-10-02T15:28:25.940498Z",
     "start_time": "2024-10-02T15:28:25.892462Z"
    }
   },
   "source": [
    "import numpy as np\n",
    "import matplotlib.pyplot as plt\n",
    "import pandas as pd\n",
    "\n",
    "f = pd.read_csv('data-2072-2024-01-15.csv', sep=';')\n",
    "f.head()\n",
    "x = f.loc[:, \"Количество обучающихся, набравших не менее 220 баллов на трёх экзаменах\"]\n",
    "y = f.loc[:, \"Количество обучающихся, набравших больше 160 баллов на трёх экзаменах\"]\n"
   ],
   "outputs": [],
   "execution_count": 4
  },
  {
   "metadata": {
    "ExecuteTime": {
     "end_time": "2024-10-02T15:28:29.630456Z",
     "start_time": "2024-10-02T15:28:29.392695Z"
    }
   },
   "cell_type": "code",
   "source": [
    "plt.scatter(x, y)\n",
    "plt.show()"
   ],
   "id": "60df5c89b0008c67",
   "outputs": [
    {
     "data": {
      "text/plain": [
       "<Figure size 640x480 with 1 Axes>"
      ],
      "image/png": "[encoded data removed]"
     },
     "metadata": {},
     "output_type": "display_data"
    }
   ],
   "execution_count": 5
  },
  {
   "metadata": {
    "ExecuteTime": {
     "end_time": "2024-10-02T15:29:15.246748Z",
     "start_time": "2024-10-02T15:29:15.237659Z"
    }
   },
   "cell_type": "code",
   "source": [
    "a=(len(x)*np.sum(x*y)-np.sum(x)*np.sum(y))/(len(x)*np.sum(x**2)-np.sum(x)**2)\n",
    "b=(np.sum(y)-a*np.sum(a))/len(x)"
   ],
   "id": "2d7b5ff5a9a8202f",
   "outputs": [],
   "execution_count": 6
  },
  {
   "metadata": {
    "ExecuteTime": {
     "end_time": "2024-10-02T15:29:40.907514Z",
     "start_time": "2024-10-02T15:29:40.858259Z"
    }
   },
   "cell_type": "code",
   "source": [
    "a1,  b1 =np.polyfit(x, y, 1)\n",
    "print(a1, b1)"
   ],
   "id": "d6172d8738af54db",
   "outputs": [
    {
     "name": "stdout",
     "output_type": "stream",
     "text": [
      "1.3079373299416537 19.733895857894957\n"
     ]
    }
   ],
   "execution_count": 7
  },
  {
   "metadata": {
    "ExecuteTime": {
     "end_time": "2024-10-02T15:31:09.344112Z",
     "start_time": "2024-10-02T15:31:07.735646Z"
    }
   },
   "cell_type": "code",
   "source": [
    "from sklearn.linear_model import LinearRegression\n",
    "from sklearn.model_selection import train_test_split\n",
    "from sklearn.metrics import mean_squared_error\n",
    "# создаем модель линейной регрессии\n",
    "linear_regression_model = LinearRegression()\n",
    "# метод train_test_split используем для разделения данных на две части: одну для обучения, другую для тестирования\n",
    "x_train, x_test, y_train, y_test = train_test_split(np.array(x).reshape(-1, 1), np.array(y).reshape(-1, 1), test_size=0.2, random_state=40)\n",
    "# обучение модели\n",
    "linear_regression_model.fit(x_train, y_train)\n",
    "# Прогноз\n",
    "predicted_data = linear_regression_model.predict(x_test)\n",
    "# определеим  коэффициенты a(sk_slope),b(sk_intercept)\n",
    "sk_slope = linear_regression_model.coef_[0]\n",
    "sk_intercept = linear_regression_model.intercept_\n",
    "print(sk_slope, sk_intercept)"
   ],
   "id": "d5dce97546b27c5f",
   "outputs": [
    {
     "name": "stdout",
     "output_type": "stream",
     "text": [
      "[1.30778962] [19.71041474]\n"
     ]
    }
   ],
   "execution_count": 8
  },
  {
   "metadata": {
    "ExecuteTime": {
     "end_time": "2024-10-02T15:32:28.805354Z",
     "start_time": "2024-10-02T15:32:28.794053Z"
    }
   },
   "cell_type": "code",
   "source": [
    "from sklearn.metrics import r2_score\n",
    "sk_data= sk_slope*np.array(x) + sk_intercept\n",
    "mnk_data = a*np.array(x)+b\n",
    "np_data=a1*np.array(x)+b1\n",
    "\n",
    "r_mnk = r2_score(y, mnk_data)\n",
    "r_np = r2_score(y, np_data)\n",
    "r_sk = r2_score(y, sk_data)\n",
    "print(r_mnk,r_np,r_sk)"
   ],
   "id": "7499b99f36a44e47",
   "outputs": [
    {
     "name": "stdout",
     "output_type": "stream",
     "text": [
      "0.37037943208968327 0.8904739014974862 0.8904736642857172\n"
     ]
    }
   ],
   "execution_count": 9
  }
 ],
 "metadata": {
  "kernelspec": {
   "display_name": "Python 3",
   "language": "python",
   "name": "python3"
  },
  "language_info": {
   "codemirror_mode": {
    "name": "ipython",
    "version": 2
   },
   "file_extension": ".py",
   "mimetype": "text/x-python",
   "name": "python",
   "nbconvert_exporter": "python",
   "pygments_lexer": "ipython2",
   "version": "2.7.6"
  }
 },
 "nbformat": 4,
 "nbformat_minor": 5
}
