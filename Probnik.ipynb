{
 "cells": [
  {
   "metadata": {},
   "cell_type": "markdown",
   "source": "",
   "id": "3de3ef0b2409b8d4"
  },
  {
   "metadata": {},
   "cell_type": "markdown",
   "source": [
    "На рисунке схема дорог Н-ского района изображена в виде графа, в таблице\n",
    "содержатся сведения о протяженности каждой из этих дорог (в километрах).\n",
    "Так как таблицу и схему рисовали независимо друг от друга, нумерация\n",
    "населённых пунктов в таблице никак не связана с буквенными обозначениями на графе. Определите, чему равен периметр «четырехугольника» ABCD. В ответе запишите целое число в метрах. \n",
    "![рисунок 1](./image/1_241024.png)\n"
   ],
   "id": "2ded10029e2242e0"
  },
  {
   "cell_type": "code",
   "id": "initial_id",
   "metadata": {
    "collapsed": true,
    "ExecuteTime": {
     "end_time": "2024-10-31T15:23:55.360049Z",
     "start_time": "2024-10-31T15:23:55.321124Z"
    }
   },
   "source": [
    "from itertools import permutations\n",
    "\n",
    "tabl = '234 156 17 15 246 257 36'\n",
    "ggraf = 'GBD AGC BD ACE DF EG FBA'\n",
    "spis = 'ABCDEFG'\n",
    "s2 = {frozenset(x) for x in ggraf.split()}\n",
    "for i in permutations(spis):\n",
    "    spis1 = tabl\n",
    "    for j in zip(''.join([str(x + 1) for x in range(len(spis))]), i):\n",
    "        spis1 = spis1.replace(j[0], j[1])\n",
    "    spis1 = {frozenset(x) for x in spis1.split()}\n",
    "\n",
    "    if spis1 == s2:\n",
    "        print(' '.join([str(i + 1) for i in range(len(ggraf.split()))]))\n",
    "        print(*i)\n",
    "print('2->5->4->1->2', 8 + 12 + 29 + 17)"
   ],
   "outputs": [
    {
     "name": "stdout",
     "output_type": "stream",
     "text": [
      "1 2 3 4 5 6 7\n",
      "D A E C B G F\n",
      "2->5->4->1->2 66\n"
     ]
    }
   ],
   "execution_count": 1
  },
  {
   "metadata": {},
   "cell_type": "markdown",
   "source": [
    "Логическая функция F задается выражением ((x→y)∧(y→w)) ∨(z≡(x∨y)).\n",
    "На рисунке приведен частично заполненный фрагмент таблицы истинности\n",
    "функции F, содержащей неповторяющиеся строки. Определите, какому\n",
    "столбцу таблицы истинности функции F соответствует каждая из\n",
    "переменных ![рисунок 1](./image/2_241024.png)\n",
    "В ответе напишите буквы x, y, z, w в том порядке, в котором идут\n",
    "соответствующие им столбцы. Буквы в ответе пишите подряд, никаких\n",
    "разделителей между буквами ставить не нужно."
   ],
   "id": "c5ceaf9c4e42dc67"
  },
  {
   "metadata": {
    "ExecuteTime": {
     "end_time": "2024-10-31T15:25:45.266090Z",
     "start_time": "2024-10-31T15:25:45.250104Z"
    }
   },
   "cell_type": "code",
   "source": [
    "from itertools import *\n",
    "\n",
    "\n",
    "def f(x, y, z, w):\n",
    "    return ((x <= y) and (y <= w)) or (z == (x or y))\n",
    "\n",
    "\n",
    "for a1, a2, a3, a4, a5, a6, a7 in product([0, 1], repeat=7):\n",
    "    rows = [(1, a1, a2, 1), (1, a3, a4, a5), (a6, 1, a7, 1)]\n",
    "    valu = [0, 0, 0]\n",
    "    if len(set(rows)) != len(rows):\n",
    "        continue\n",
    "    for perm in permutations('xyzw'):\n",
    "        if all([f(**dict(zip(perm, row))) == val\n",
    "                for row, val in zip(rows, valu)]):\n",
    "            print(perm)\n"
   ],
   "id": "ea53d9872a095926",
   "outputs": [
    {
     "name": "stdout",
     "output_type": "stream",
     "text": [
      "('y', 'w', 'z', 'x')\n"
     ]
    }
   ],
   "execution_count": 7
  },
  {
   "metadata": {},
   "cell_type": "markdown",
   "source": [
    "В файле приведён фрагмент базы данных «Продукты» о поставках товаров\n",
    "в магазины районов города. База данных состоит из трёх таблиц.\n",
    "Таблица «Движение товаров» содержит записи о поставках товаров в\n",
    "магазины в течение первой декады июня 2021 г., а также информацию о\n",
    "проданных товарах. Поле Тип операции содержит значение Поступление\n",
    "или Продажа, а в соответствующее поле Количество упаковок, шт. занесена\n",
    "информация о том, сколько упаковок товара поступило в магазин или было\n",
    "продано в течение дня. Заголовок таблицы имеет следующий вид.\n",
    "Таблица «Товар» содержит информацию об основных характеристиках\n",
    "каждого товара. Заголовок таблицы имеет следующий вид.\n",
    "Таблица «Магазин» содержит информацию о местонахождении магазинов.\n",
    "Заголовок таблицы имеет следующий вид.\n",
    "Используя информацию из приведённой базы данных, определите, на \n",
    "сколько увеличилось количество упаковок мармелада в шоколаде, \n",
    "имеющихся в наличии в магазинах Центрального района, за период с 2 по \n",
    "10 августа включительно. В ответе запишите только число. "
   ],
   "id": "26b22d8b657ccc1f"
  },
  {
   "metadata": {
    "ExecuteTime": {
     "end_time": "2024-11-01T04:18:06.232217Z",
     "start_time": "2024-11-01T04:18:05.787150Z"
    }
   },
   "cell_type": "code",
   "source": [
    "#fileProbik/03Решение.xlsx\n",
    "import openpyxl\n",
    "from datetime import datetime, date, time\n",
    "\n",
    "workbook = openpyxl.load_workbook('FileProbnik/03.xlsx')\n",
    "mag = workbook['Магазин']\n",
    "produkt = workbook['Товар']\n",
    "move = workbook['Движение товаров']\n",
    "ad = 0\n",
    "m = ''\n",
    "prod = []\n",
    "for row in mag.iter_rows(values_only=True):\n",
    "    if row[1] == 'Центральный':\n",
    "        m += row[0] + ' '\n",
    "\n",
    "for row in produkt.iter_rows(values_only=True):\n",
    "    if row[2] == 'Мармелад в шоколаде':\n",
    "        p = row[0]\n",
    "print(m, p)\n",
    "\n",
    "for row in move.iter_rows(values_only=True):\n",
    "    # print(type(row[1]), row[1])\n",
    "    if row[2] in m and row[3] == p and datetime(2021, 8, 2, 0, 0, 0) <= row[1] <= datetime(2021, 8,10, 0, 0,0) and row[5] == 'Поступление':\n",
    "        ad+=row[4]\n",
    "        print(row[0],row[2], row[3], row[4], row[5])\n",
    "print(ad)"
   ],
   "id": "71a4a490c7f5d8f6",
   "outputs": [
    {
     "name": "stdout",
     "output_type": "stream",
     "text": [
      "M1 M5 M6 M10 M15 M18  18\n",
      "18 M1 18 200 Поступление\n",
      "54 M5 18 200 Поступление\n",
      "90 M6 18 200 Поступление\n",
      "126 M10 18 200 Поступление\n",
      "162 M15 18 200 Поступление\n",
      "198 M18 18 200 Поступление\n",
      "2178 M1 18 300 Поступление\n",
      "2214 M5 18 300 Поступление\n",
      "2250 M6 18 300 Поступление\n",
      "2286 M10 18 300 Поступление\n",
      "2322 M15 18 300 Поступление\n",
      "2358 M18 18 300 Поступление\n",
      "3000\n"
     ]
    }
   ],
   "execution_count": 29
  },
  {
   "metadata": {},
   "cell_type": "code",
   "outputs": [],
   "execution_count": null,
   "source": "",
   "id": "cebef75303ab3798"
  }
 ],
 "metadata": {
  "kernelspec": {
   "display_name": "Python 3",
   "language": "python",
   "name": "python3"
  },
  "language_info": {
   "codemirror_mode": {
    "name": "ipython",
    "version": 2
   },
   "file_extension": ".py",
   "mimetype": "text/x-python",
   "name": "python",
   "nbconvert_exporter": "python",
   "pygments_lexer": "ipython2",
   "version": "2.7.6"
  }
 },
 "nbformat": 4,
 "nbformat_minor": 5
}
